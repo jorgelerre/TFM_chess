{
  "cells": [
    {
      "cell_type": "code",
      "execution_count": 1,
      "metadata": {
        "id": "BcWXEQI7Ws2l"
      },
      "outputs": [],
      "source": [
        "import os\n",
        "\n",
        "import chess\n",
        "import chess.svg\n",
        "from jax import random as jrandom\n",
        "import numpy as np"
      ]
    },
    {
      "cell_type": "code",
      "execution_count": 2,
      "metadata": {
        "id": "oUuSZBYyWvbf"
      },
      "outputs": [],
      "source": [
        "from searchless_chess.src import tokenizer\n",
        "from searchless_chess.src import training_utils\n",
        "from searchless_chess.src import transformer\n",
        "from searchless_chess.src import utils\n",
        "from searchless_chess.src.engines import engine\n",
        "from searchless_chess.src.engines import neural_engines\n",
        "import searchless_chess.src.engines.constants as constants"
      ]
    },
    {
      "cell_type": "code",
      "execution_count": 3,
      "metadata": {
        "id": "s8w6FnstXMr4"
      },
      "outputs": [],
      "source": [
        "# @title Create the predictor.\n",
        "\n",
        "policy = 'action_value'\n",
        "num_return_buckets = 128\n",
        "\n",
        "match policy:\n",
        "  case 'action_value':\n",
        "    output_size = num_return_buckets\n",
        "  case 'behavioral_cloning':\n",
        "    output_size = utils.NUM_ACTIONS\n",
        "  case 'state_value':\n",
        "    output_size = num_return_buckets\n",
        "  case _:\n",
        "    raise ValueError(f'Unknown policy: {policy}')\n",
        "\n",
        "predictor_config = transformer.TransformerConfig(\n",
        "    vocab_size=utils.NUM_ACTIONS,\n",
        "    output_size=output_size,\n",
        "    pos_encodings=transformer.PositionalEncodings.LEARNED,\n",
        "    max_sequence_length=tokenizer.SEQUENCE_LENGTH + 2,\n",
        "    num_heads=8,\n",
        "    num_layers=8,\n",
        "    embedding_dim=256,\n",
        "    apply_post_ln=True,\n",
        "    apply_qk_layernorm=False,\n",
        "    use_causal_mask=False,\n",
        ")\n",
        "\n",
        "predictor = transformer.build_transformer_predictor(config=predictor_config)"
      ]
    },
    {
      "cell_type": "code",
      "execution_count": 4,
      "metadata": {
        "id": "BZugSBZLXJxn"
      },
      "outputs": [
        {
          "name": "stdout",
          "output_type": "stream",
          "text": [
            "Expected keys: dict_keys(['embed', 'embed_1', 'layer_norm', 'multi_head_dot_product_attention/linear', 'multi_head_dot_product_attention/linear_1', 'multi_head_dot_product_attention/linear_2', 'multi_head_dot_product_attention/linear_3', 'layer_norm_1', 'linear', 'linear_1', 'linear_2', 'layer_norm_2', 'multi_head_dot_product_attention_1/linear', 'multi_head_dot_product_attention_1/linear_1', 'multi_head_dot_product_attention_1/linear_2', 'multi_head_dot_product_attention_1/linear_3', 'layer_norm_3', 'linear_3', 'linear_4', 'linear_5', 'layer_norm_4', 'multi_head_dot_product_attention_2/linear', 'multi_head_dot_product_attention_2/linear_1', 'multi_head_dot_product_attention_2/linear_2', 'multi_head_dot_product_attention_2/linear_3', 'layer_norm_5', 'linear_6', 'linear_7', 'linear_8', 'layer_norm_6', 'multi_head_dot_product_attention_3/linear', 'multi_head_dot_product_attention_3/linear_1', 'multi_head_dot_product_attention_3/linear_2', 'multi_head_dot_product_attention_3/linear_3', 'layer_norm_7', 'linear_9', 'linear_10', 'linear_11', 'layer_norm_8', 'multi_head_dot_product_attention_4/linear', 'multi_head_dot_product_attention_4/linear_1', 'multi_head_dot_product_attention_4/linear_2', 'multi_head_dot_product_attention_4/linear_3', 'layer_norm_9', 'linear_12', 'linear_13', 'linear_14', 'layer_norm_10', 'multi_head_dot_product_attention_5/linear', 'multi_head_dot_product_attention_5/linear_1', 'multi_head_dot_product_attention_5/linear_2', 'multi_head_dot_product_attention_5/linear_3', 'layer_norm_11', 'linear_15', 'linear_16', 'linear_17', 'layer_norm_12', 'multi_head_dot_product_attention_6/linear', 'multi_head_dot_product_attention_6/linear_1', 'multi_head_dot_product_attention_6/linear_2', 'multi_head_dot_product_attention_6/linear_3', 'layer_norm_13', 'linear_18', 'linear_19', 'linear_20', 'layer_norm_14', 'multi_head_dot_product_attention_7/linear', 'multi_head_dot_product_attention_7/linear_1', 'multi_head_dot_product_attention_7/linear_2', 'multi_head_dot_product_attention_7/linear_3', 'layer_norm_15', 'linear_21', 'linear_22', 'linear_23', 'layer_norm_16', 'linear_24'])\n",
            "Restored keys: dict_keys(['embed', 'embed_1', 'layer_norm', 'layer_norm_1', 'layer_norm_10', 'layer_norm_11', 'layer_norm_12', 'layer_norm_13', 'layer_norm_14', 'layer_norm_15', 'layer_norm_16', 'layer_norm_2', 'layer_norm_3', 'layer_norm_4', 'layer_norm_5', 'layer_norm_6', 'layer_norm_7', 'layer_norm_8', 'layer_norm_9', 'linear', 'linear_1', 'linear_10', 'linear_11', 'linear_12', 'linear_13', 'linear_14', 'linear_15', 'linear_16', 'linear_17', 'linear_18', 'linear_19', 'linear_2', 'linear_20', 'linear_21', 'linear_22', 'linear_23', 'linear_24', 'linear_3', 'linear_4', 'linear_5', 'linear_6', 'linear_7', 'linear_8', 'linear_9', 'multi_head_dot_product_attention/linear', 'multi_head_dot_product_attention/linear_1', 'multi_head_dot_product_attention/linear_2', 'multi_head_dot_product_attention/linear_3', 'multi_head_dot_product_attention_1/linear', 'multi_head_dot_product_attention_1/linear_1', 'multi_head_dot_product_attention_1/linear_2', 'multi_head_dot_product_attention_1/linear_3', 'multi_head_dot_product_attention_2/linear', 'multi_head_dot_product_attention_2/linear_1', 'multi_head_dot_product_attention_2/linear_2', 'multi_head_dot_product_attention_2/linear_3', 'multi_head_dot_product_attention_3/linear', 'multi_head_dot_product_attention_3/linear_1', 'multi_head_dot_product_attention_3/linear_2', 'multi_head_dot_product_attention_3/linear_3', 'multi_head_dot_product_attention_4/linear', 'multi_head_dot_product_attention_4/linear_1', 'multi_head_dot_product_attention_4/linear_2', 'multi_head_dot_product_attention_4/linear_3', 'multi_head_dot_product_attention_5/linear', 'multi_head_dot_product_attention_5/linear_1', 'multi_head_dot_product_attention_5/linear_2', 'multi_head_dot_product_attention_5/linear_3', 'multi_head_dot_product_attention_6/linear', 'multi_head_dot_product_attention_6/linear_1', 'multi_head_dot_product_attention_6/linear_2', 'multi_head_dot_product_attention_6/linear_3', 'multi_head_dot_product_attention_7/linear', 'multi_head_dot_product_attention_7/linear_1', 'multi_head_dot_product_attention_7/linear_2', 'multi_head_dot_product_attention_7/linear_3'])\n"
          ]
        }
      ],
      "source": [
        "# @title Load the predictor parameters\n",
        "\n",
        "checkpoint_dir = os.path.join(\n",
        "    os.getcwd(),\n",
        "    f'../checkpoints/9M',\n",
        ")\n",
        "dummy_params = predictor.initial_params(\n",
        "    rng=jrandom.PRNGKey(6400000),\n",
        "    targets=np.zeros((1, 1), dtype=np.uint32),\n",
        ")\n",
        "params = training_utils.load_parameters(\n",
        "    checkpoint_dir=checkpoint_dir,\n",
        "    params=dummy_params,\n",
        "    use_ema_params=True,\n",
        "    step=-1,\n",
        ")"
      ]
    },
    {
      "cell_type": "code",
      "execution_count": 5,
      "metadata": {
        "id": "LYRlpAbPZCIs"
      },
      "outputs": [],
      "source": [
        "# @title Create the engine\n",
        "\n",
        "predict_fn = neural_engines.wrap_predict_fn(predictor, params, batch_size=1)\n",
        "_, return_buckets_values = utils.get_uniform_buckets_edges_values(\n",
        "    num_return_buckets\n",
        ")\n",
        "\n",
        "neural_engine = neural_engines.ENGINE_FROM_POLICY[policy](\n",
        "    return_buckets_values=return_buckets_values,\n",
        "    predict_fn=predict_fn,\n",
        "    temperature=0.005,\n",
        ")"
      ]
    },
    {
      "cell_type": "code",
      "execution_count": 6,
      "metadata": {
        "id": "QiE6-8A8ZZl5"
      },
      "outputs": [
        {
          "name": "stdout",
          "output_type": "stream",
          "text": [
            "Best move: g1f3\n"
          ]
        },
        {
          "data": {
            "text/plain": [
              "array([[-16.972721, -18.297773, -17.786018, ..., -19.471888, -19.739819,\n",
              "        -17.669365],\n",
              "       [-17.332315, -19.460886, -18.252579, ..., -18.685335, -19.400723,\n",
              "        -18.843721],\n",
              "       [-18.227547, -21.45101 , -20.34803 , ..., -18.866692, -19.54095 ,\n",
              "        -18.878246],\n",
              "       ...,\n",
              "       [-16.26824 , -17.879591, -17.651842, ..., -18.692684, -18.872377,\n",
              "        -17.201775],\n",
              "       [-17.052387, -19.141958, -18.439047, ..., -19.566021, -19.94304 ,\n",
              "        -18.54868 ],\n",
              "       [-16.913742, -18.775784, -18.253054, ..., -19.214146, -19.735785,\n",
              "        -17.74015 ]], shape=(20, 128), dtype=float32)"
            ]
          },
          "execution_count": 6,
          "metadata": {},
          "output_type": "execute_result"
        }
      ],
      "source": [
        "# @title Play a move with the agent\n",
        "board = chess.Board()\n",
        "best_move = neural_engine.play(board)\n",
        "print(f'Best move: {best_move}')\n",
        "(neural_engine.analyse(board)['log_probs'])"
      ]
    },
    {
      "cell_type": "code",
      "execution_count": 13,
      "metadata": {},
      "outputs": [],
      "source": [
        "import math\n",
        "def win_probability_to_centipawns(win_probability: float) -> int:\n",
        "  \"\"\"Returns the centipawn score converted from the win probability (in [0, 1]).\n",
        "\n",
        "  Args:\n",
        "    win_probability: The win probability in the range [0, 1].\n",
        "  \"\"\"\n",
        "  if not 0 <= win_probability <= 1:\n",
        "    raise ValueError(\"Win probability must be in the range [0, 1].\")\n",
        "  \n",
        "  centipawns = -1 / 0.00368208 * math.log((1 - win_probability) / win_probability)\n",
        "  return int(centipawns)"
      ]
    },
    {
      "cell_type": "code",
      "execution_count": 19,
      "metadata": {
        "id": "QCL1f--1ab6w"
      },
      "outputs": [
        {
          "name": "stdout",
          "output_type": "stream",
          "text": [
            "[Move.from_uci('b1a3'), Move.from_uci('b1c3'), Move.from_uci('g1f3'), Move.from_uci('g1h3'), Move.from_uci('a2a3'), Move.from_uci('a2a4'), Move.from_uci('b2b3'), Move.from_uci('b2b4'), Move.from_uci('c2c3'), Move.from_uci('c2c4'), Move.from_uci('d2d3'), Move.from_uci('d2d4'), Move.from_uci('e2e3'), Move.from_uci('e2e4'), Move.from_uci('f2f3'), Move.from_uci('f2f4'), Move.from_uci('g2g3'), Move.from_uci('g2g4'), Move.from_uci('h2h3'), Move.from_uci('h2h4')]\n",
            "Win percentages:\n",
            "0.5351641747458535\n",
            "13\n",
            "  e2e4 -> 53.5% cp: 38\n",
            "11\n",
            "  d2d4 -> 53.1% cp: 33\n",
            "2\n",
            "  g1f3 -> 52.6% cp: 28\n",
            "9\n",
            "  c2c4 -> 52.4% cp: 26\n",
            "12\n",
            "  e2e3 -> 51.6% cp: 17\n",
            "1\n",
            "  b1c3 -> 51.3% cp: 13\n",
            "16\n",
            "  g2g3 -> 50.8% cp: 8\n",
            "8\n",
            "  c2c3 -> 50.0% cp: 0\n",
            "4\n",
            "  a2a3 -> 49.6% cp: -4\n",
            "10\n",
            "  d2d3 -> 49.5% cp: -5\n",
            "6\n",
            "  b2b3 -> 49.1% cp: -9\n",
            "18\n",
            "  h2h3 -> 48.8% cp: -12\n",
            "5\n",
            "  a2a4 -> 48.0% cp: -21\n",
            "15\n",
            "  f2f4 -> 48.0% cp: -22\n",
            "19\n",
            "  h2h4 -> 47.2% cp: -30\n",
            "7\n",
            "  b2b4 -> 45.7% cp: -46\n",
            "0\n",
            "  b1a3 -> 44.9% cp: -56\n",
            "3\n",
            "  g1h3 -> 44.1% cp: -64\n",
            "14\n",
            "  f2f3 -> 43.7% cp: -68\n",
            "17\n",
            "  g2g4 -> 41.2% cp: -96\n"
          ]
        }
      ],
      "source": [
        "# @title Compute the win percentages for all legal moves\n",
        "\n",
        "board = chess.Board()\n",
        "results = neural_engine.analyse(board)\n",
        "buckets_log_probs = results['log_probs']\n",
        "\n",
        "# Compute the expected return.\n",
        "win_probs = np.inner(np.exp(buckets_log_probs), return_buckets_values)\n",
        "sorted_legal_moves = engine.get_ordered_legal_moves(board)\n",
        "\n",
        "print(sorted_legal_moves)\n",
        "print(f'Win percentages:')\n",
        "print(max(win_probs))\n",
        "for i in np.argsort(win_probs)[::-1]:\n",
        "  print(i)\n",
        "  cp = win_probability_to_centipawns(win_probs[i])\n",
        "  print(f'  {sorted_legal_moves[i].uci()} -> {100*win_probs[i]:.1f}% cp: {cp}')"
      ]
    }
  ],
  "metadata": {
    "colab": {
      "last_runtime": {
        "build_target": "//third_party/deepmind/searchless_chess/src:searchless_chess",
        "kind": "private"
      },
      "private_outputs": true,
      "provenance": []
    },
    "kernelspec": {
      "display_name": "lichess_bot",
      "language": "python",
      "name": "python3"
    },
    "language_info": {
      "codemirror_mode": {
        "name": "ipython",
        "version": 3
      },
      "file_extension": ".py",
      "mimetype": "text/x-python",
      "name": "python",
      "nbconvert_exporter": "python",
      "pygments_lexer": "ipython3",
      "version": "3.10.16"
    }
  },
  "nbformat": 4,
  "nbformat_minor": 0
}
